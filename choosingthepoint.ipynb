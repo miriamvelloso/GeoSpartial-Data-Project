{
 "cells": [
  {
   "cell_type": "code",
   "execution_count": 1,
   "metadata": {},
   "outputs": [],
   "source": [
    "import pandas as pd\n",
    "import requests\n",
    "import os\n",
    "from dotenv import load_dotenv\n",
    "from pymongo import MongoClient\n",
    "from pandas.io.json import json_normalize\n",
    "import numpy as np\n",
    "from geopy.distance import geodesic"
   ]
  },
  {
   "cell_type": "markdown",
   "metadata": {},
   "source": [
    "``Importo collections sobre los requisitos en San Francisco``"
   ]
  },
  {
   "cell_type": "code",
   "execution_count": 2,
   "metadata": {},
   "outputs": [],
   "source": [
    "dbName = \"Crunchbase_Dataset\"\n",
    "mongodbURL = f\"mongodb://localhost/{dbName}\"\n",
    "client = MongoClient(mongodbURL)\n",
    "db = client.get_database()"
   ]
  },
  {
   "cell_type": "code",
   "execution_count": 3,
   "metadata": {},
   "outputs": [
    {
     "data": {
      "text/html": [
       "<div>\n",
       "<style scoped>\n",
       "    .dataframe tbody tr th:only-of-type {\n",
       "        vertical-align: middle;\n",
       "    }\n",
       "\n",
       "    .dataframe tbody tr th {\n",
       "        vertical-align: top;\n",
       "    }\n",
       "\n",
       "    .dataframe thead th {\n",
       "        text-align: right;\n",
       "    }\n",
       "</style>\n",
       "<table border=\"1\" class=\"dataframe\">\n",
       "  <thead>\n",
       "    <tr style=\"text-align: right;\">\n",
       "      <th></th>\n",
       "      <th>_id</th>\n",
       "      <th>name</th>\n",
       "      <th>latitude</th>\n",
       "      <th>longitude</th>\n",
       "      <th>location</th>\n",
       "    </tr>\n",
       "  </thead>\n",
       "  <tbody>\n",
       "    <tr>\n",
       "      <th>0</th>\n",
       "      <td>5ef9c53e45de338078b9ab82</td>\n",
       "      <td>Ustream</td>\n",
       "      <td>37.392936</td>\n",
       "      <td>-122.079480</td>\n",
       "      <td>{'type': 'Point', 'coordinates': [-122.07948, ...</td>\n",
       "    </tr>\n",
       "    <tr>\n",
       "      <th>1</th>\n",
       "      <td>5ef9c53e45de338078b9ab83</td>\n",
       "      <td>Revision3</td>\n",
       "      <td>37.757758</td>\n",
       "      <td>-122.388243</td>\n",
       "      <td>{'type': 'Point', 'coordinates': [-122.388243,...</td>\n",
       "    </tr>\n",
       "    <tr>\n",
       "      <th>2</th>\n",
       "      <td>5ef9c53e45de338078b9ab84</td>\n",
       "      <td>CastTV</td>\n",
       "      <td>37.780716</td>\n",
       "      <td>-122.393913</td>\n",
       "      <td>{'type': 'Point', 'coordinates': [-122.393913,...</td>\n",
       "    </tr>\n",
       "    <tr>\n",
       "      <th>3</th>\n",
       "      <td>5ef9c53e45de338078b9ab85</td>\n",
       "      <td>Metacafe</td>\n",
       "      <td>37.437328</td>\n",
       "      <td>-122.159928</td>\n",
       "      <td>{'type': 'Point', 'coordinates': [-122.159928,...</td>\n",
       "    </tr>\n",
       "    <tr>\n",
       "      <th>4</th>\n",
       "      <td>5ef9c53e45de338078b9ab86</td>\n",
       "      <td>Mevio</td>\n",
       "      <td>37.782263</td>\n",
       "      <td>-122.392142</td>\n",
       "      <td>{'type': 'Point', 'coordinates': [-122.392142,...</td>\n",
       "    </tr>\n",
       "  </tbody>\n",
       "</table>\n",
       "</div>"
      ],
      "text/plain": [
       "                        _id       name   latitude   longitude  \\\n",
       "0  5ef9c53e45de338078b9ab82    Ustream  37.392936 -122.079480   \n",
       "1  5ef9c53e45de338078b9ab83  Revision3  37.757758 -122.388243   \n",
       "2  5ef9c53e45de338078b9ab84     CastTV  37.780716 -122.393913   \n",
       "3  5ef9c53e45de338078b9ab85   Metacafe  37.437328 -122.159928   \n",
       "4  5ef9c53e45de338078b9ab86      Mevio  37.782263 -122.392142   \n",
       "\n",
       "                                            location  \n",
       "0  {'type': 'Point', 'coordinates': [-122.07948, ...  \n",
       "1  {'type': 'Point', 'coordinates': [-122.388243,...  \n",
       "2  {'type': 'Point', 'coordinates': [-122.393913,...  \n",
       "3  {'type': 'Point', 'coordinates': [-122.159928,...  \n",
       "4  {'type': 'Point', 'coordinates': [-122.392142,...  "
      ]
     },
     "execution_count": 3,
     "metadata": {},
     "output_type": "execute_result"
    }
   ],
   "source": [
    "curse = db.gamers_companies.find({},{\"name\":1,\"location\":1,\"latitude\":1,\"longitude\":1})\n",
    "gamer_companies = list(curse)\n",
    "df= pd.DataFrame(gamer_companies)\n",
    "df.head()"
   ]
  },
  {
   "cell_type": "code",
   "execution_count": 4,
   "metadata": {
    "scrolled": true
   },
   "outputs": [
    {
     "data": {
      "text/html": [
       "<div>\n",
       "<style scoped>\n",
       "    .dataframe tbody tr th:only-of-type {\n",
       "        vertical-align: middle;\n",
       "    }\n",
       "\n",
       "    .dataframe tbody tr th {\n",
       "        vertical-align: top;\n",
       "    }\n",
       "\n",
       "    .dataframe thead th {\n",
       "        text-align: right;\n",
       "    }\n",
       "</style>\n",
       "<table border=\"1\" class=\"dataframe\">\n",
       "  <thead>\n",
       "    <tr style=\"text-align: right;\">\n",
       "      <th></th>\n",
       "      <th>_id</th>\n",
       "      <th>name</th>\n",
       "      <th>latitude</th>\n",
       "      <th>longitude</th>\n",
       "      <th>location</th>\n",
       "    </tr>\n",
       "  </thead>\n",
       "  <tbody>\n",
       "    <tr>\n",
       "      <th>0</th>\n",
       "      <td>5ef9c61445de338078b9abae</td>\n",
       "      <td>Ananda Fuara</td>\n",
       "      <td>37.777693</td>\n",
       "      <td>-122.416353</td>\n",
       "      <td>{'type': 'Point', 'coordinates': [-122.4163533...</td>\n",
       "    </tr>\n",
       "    <tr>\n",
       "      <th>1</th>\n",
       "      <td>5ef9c61445de338078b9abaf</td>\n",
       "      <td>Golden Era Vegan</td>\n",
       "      <td>37.781495</td>\n",
       "      <td>-122.416822</td>\n",
       "      <td>{'type': 'Point', 'coordinates': [-122.4168223...</td>\n",
       "    </tr>\n",
       "    <tr>\n",
       "      <th>2</th>\n",
       "      <td>5ef9c61445de338078b9abb0</td>\n",
       "      <td>The Flying Falafel</td>\n",
       "      <td>37.781323</td>\n",
       "      <td>-122.411138</td>\n",
       "      <td>{'type': 'Point', 'coordinates': [-122.411138,...</td>\n",
       "    </tr>\n",
       "    <tr>\n",
       "      <th>3</th>\n",
       "      <td>5ef9c61445de338078b9abb1</td>\n",
       "      <td>Ike's Sandwiches</td>\n",
       "      <td>37.785146</td>\n",
       "      <td>-122.419629</td>\n",
       "      <td>{'type': 'Point', 'coordinates': [-122.4196290...</td>\n",
       "    </tr>\n",
       "    <tr>\n",
       "      <th>4</th>\n",
       "      <td>5ef9c61445de338078b9abb2</td>\n",
       "      <td>Shizen</td>\n",
       "      <td>37.768190</td>\n",
       "      <td>-122.421627</td>\n",
       "      <td>{'type': 'Point', 'coordinates': [-122.4216272...</td>\n",
       "    </tr>\n",
       "  </tbody>\n",
       "</table>\n",
       "</div>"
      ],
      "text/plain": [
       "                        _id                name   latitude   longitude  \\\n",
       "0  5ef9c61445de338078b9abae        Ananda Fuara  37.777693 -122.416353   \n",
       "1  5ef9c61445de338078b9abaf    Golden Era Vegan  37.781495 -122.416822   \n",
       "2  5ef9c61445de338078b9abb0  The Flying Falafel  37.781323 -122.411138   \n",
       "3  5ef9c61445de338078b9abb1    Ike's Sandwiches  37.785146 -122.419629   \n",
       "4  5ef9c61445de338078b9abb2              Shizen  37.768190 -122.421627   \n",
       "\n",
       "                                            location  \n",
       "0  {'type': 'Point', 'coordinates': [-122.4163533...  \n",
       "1  {'type': 'Point', 'coordinates': [-122.4168223...  \n",
       "2  {'type': 'Point', 'coordinates': [-122.411138,...  \n",
       "3  {'type': 'Point', 'coordinates': [-122.4196290...  \n",
       "4  {'type': 'Point', 'coordinates': [-122.4216272...  "
      ]
     },
     "execution_count": 4,
     "metadata": {},
     "output_type": "execute_result"
    }
   ],
   "source": [
    "curse = db.vegan.find({},{\"name\":1,\"location\":1,\"latitude\":1,\"longitude\":1})\n",
    "vegan = list(curse)\n",
    "df_vegan= pd.DataFrame(vegan)\n",
    "df_vegan.head()"
   ]
  },
  {
   "cell_type": "code",
   "execution_count": 5,
   "metadata": {
    "scrolled": true
   },
   "outputs": [
    {
     "data": {
      "text/html": [
       "<div>\n",
       "<style scoped>\n",
       "    .dataframe tbody tr th:only-of-type {\n",
       "        vertical-align: middle;\n",
       "    }\n",
       "\n",
       "    .dataframe tbody tr th {\n",
       "        vertical-align: top;\n",
       "    }\n",
       "\n",
       "    .dataframe thead th {\n",
       "        text-align: right;\n",
       "    }\n",
       "</style>\n",
       "<table border=\"1\" class=\"dataframe\">\n",
       "  <thead>\n",
       "    <tr style=\"text-align: right;\">\n",
       "      <th></th>\n",
       "      <th>_id</th>\n",
       "      <th>name</th>\n",
       "      <th>latitude</th>\n",
       "      <th>longitude</th>\n",
       "      <th>location</th>\n",
       "    </tr>\n",
       "  </thead>\n",
       "  <tbody>\n",
       "    <tr>\n",
       "      <th>0</th>\n",
       "      <td>5ef9c51645de338078b9ab76</td>\n",
       "      <td>Design To Win Foundation</td>\n",
       "      <td>37.790943</td>\n",
       "      <td>-122.408499</td>\n",
       "      <td>{'type': 'Point', 'coordinates': [-122.4084994...</td>\n",
       "    </tr>\n",
       "    <tr>\n",
       "      <th>1</th>\n",
       "      <td>5ef9c51645de338078b9ab77</td>\n",
       "      <td>West Sunset RC Flying Field</td>\n",
       "      <td>37.748486</td>\n",
       "      <td>-122.497641</td>\n",
       "      <td>{'type': 'Point', 'coordinates': [-122.4976407...</td>\n",
       "    </tr>\n",
       "    <tr>\n",
       "      <th>2</th>\n",
       "      <td>5ef9c51645de338078b9ab78</td>\n",
       "      <td>SFO</td>\n",
       "      <td>37.785729</td>\n",
       "      <td>-122.410446</td>\n",
       "      <td>{'type': 'Point', 'coordinates': [-122.4104463...</td>\n",
       "    </tr>\n",
       "    <tr>\n",
       "      <th>3</th>\n",
       "      <td>5ef9c51645de338078b9ab79</td>\n",
       "      <td>MUrgency Inc. (Airport Assistance; Tech Innova...</td>\n",
       "      <td>37.766902</td>\n",
       "      <td>-122.419558</td>\n",
       "      <td>{'type': 'Point', 'coordinates': [-122.419558,...</td>\n",
       "    </tr>\n",
       "    <tr>\n",
       "      <th>4</th>\n",
       "      <td>5ef9c51645de338078b9ab7a</td>\n",
       "      <td>UCSF Helipad</td>\n",
       "      <td>37.766611</td>\n",
       "      <td>-122.390381</td>\n",
       "      <td>{'type': 'Point', 'coordinates': [-122.3903809...</td>\n",
       "    </tr>\n",
       "  </tbody>\n",
       "</table>\n",
       "</div>"
      ],
      "text/plain": [
       "                        _id  \\\n",
       "0  5ef9c51645de338078b9ab76   \n",
       "1  5ef9c51645de338078b9ab77   \n",
       "2  5ef9c51645de338078b9ab78   \n",
       "3  5ef9c51645de338078b9ab79   \n",
       "4  5ef9c51645de338078b9ab7a   \n",
       "\n",
       "                                                name   latitude   longitude  \\\n",
       "0                           Design To Win Foundation  37.790943 -122.408499   \n",
       "1                        West Sunset RC Flying Field  37.748486 -122.497641   \n",
       "2                                                SFO  37.785729 -122.410446   \n",
       "3  MUrgency Inc. (Airport Assistance; Tech Innova...  37.766902 -122.419558   \n",
       "4                                       UCSF Helipad  37.766611 -122.390381   \n",
       "\n",
       "                                            location  \n",
       "0  {'type': 'Point', 'coordinates': [-122.4084994...  \n",
       "1  {'type': 'Point', 'coordinates': [-122.4976407...  \n",
       "2  {'type': 'Point', 'coordinates': [-122.4104463...  \n",
       "3  {'type': 'Point', 'coordinates': [-122.419558,...  \n",
       "4  {'type': 'Point', 'coordinates': [-122.3903809...  "
      ]
     },
     "execution_count": 5,
     "metadata": {},
     "output_type": "execute_result"
    }
   ],
   "source": [
    "curse = db.airports.find({},{\"name\":1,\"location\":1,\"latitude\":1,\"longitude\":1})\n",
    "airports = list(curse)\n",
    "df_airports= pd.DataFrame(airports)\n",
    "df_airports.head()"
   ]
  },
  {
   "cell_type": "code",
   "execution_count": 6,
   "metadata": {},
   "outputs": [
    {
     "data": {
      "text/html": [
       "<div>\n",
       "<style scoped>\n",
       "    .dataframe tbody tr th:only-of-type {\n",
       "        vertical-align: middle;\n",
       "    }\n",
       "\n",
       "    .dataframe tbody tr th {\n",
       "        vertical-align: top;\n",
       "    }\n",
       "\n",
       "    .dataframe thead th {\n",
       "        text-align: right;\n",
       "    }\n",
       "</style>\n",
       "<table border=\"1\" class=\"dataframe\">\n",
       "  <thead>\n",
       "    <tr style=\"text-align: right;\">\n",
       "      <th></th>\n",
       "      <th>_id</th>\n",
       "      <th>name</th>\n",
       "      <th>latitude</th>\n",
       "      <th>longitude</th>\n",
       "      <th>location</th>\n",
       "    </tr>\n",
       "  </thead>\n",
       "  <tbody>\n",
       "    <tr>\n",
       "      <th>0</th>\n",
       "      <td>5ef9c4e645de338078b9ab62</td>\n",
       "      <td>Zero Zero</td>\n",
       "      <td>37.781636</td>\n",
       "      <td>-122.402083</td>\n",
       "      <td>{'type': 'Point', 'coordinates': [-122.4070662...</td>\n",
       "    </tr>\n",
       "    <tr>\n",
       "      <th>1</th>\n",
       "      <td>5ef9c4e645de338078b9ab63</td>\n",
       "      <td>Smuggler's Cove</td>\n",
       "      <td>37.779403</td>\n",
       "      <td>-122.423372</td>\n",
       "      <td>{'type': 'Point', 'coordinates': [-122.4070662...</td>\n",
       "    </tr>\n",
       "    <tr>\n",
       "      <th>2</th>\n",
       "      <td>5ef9c4e645de338078b9ab64</td>\n",
       "      <td>The Valencia Room</td>\n",
       "      <td>37.762506</td>\n",
       "      <td>-122.421412</td>\n",
       "      <td>{'type': 'Point', 'coordinates': [-122.4070662...</td>\n",
       "    </tr>\n",
       "    <tr>\n",
       "      <th>3</th>\n",
       "      <td>5ef9c4e645de338078b9ab65</td>\n",
       "      <td>The Grand</td>\n",
       "      <td>37.779100</td>\n",
       "      <td>-122.397900</td>\n",
       "      <td>{'type': 'Point', 'coordinates': [-122.4070662...</td>\n",
       "    </tr>\n",
       "    <tr>\n",
       "      <th>4</th>\n",
       "      <td>5ef9c4e645de338078b9ab66</td>\n",
       "      <td>Edinburgh Castle Pub</td>\n",
       "      <td>37.786127</td>\n",
       "      <td>-122.418957</td>\n",
       "      <td>{'type': 'Point', 'coordinates': [-122.4070662...</td>\n",
       "    </tr>\n",
       "  </tbody>\n",
       "</table>\n",
       "</div>"
      ],
      "text/plain": [
       "                        _id                  name   latitude   longitude  \\\n",
       "0  5ef9c4e645de338078b9ab62             Zero Zero  37.781636 -122.402083   \n",
       "1  5ef9c4e645de338078b9ab63       Smuggler's Cove  37.779403 -122.423372   \n",
       "2  5ef9c4e645de338078b9ab64     The Valencia Room  37.762506 -122.421412   \n",
       "3  5ef9c4e645de338078b9ab65             The Grand  37.779100 -122.397900   \n",
       "4  5ef9c4e645de338078b9ab66  Edinburgh Castle Pub  37.786127 -122.418957   \n",
       "\n",
       "                                            location  \n",
       "0  {'type': 'Point', 'coordinates': [-122.4070662...  \n",
       "1  {'type': 'Point', 'coordinates': [-122.4070662...  \n",
       "2  {'type': 'Point', 'coordinates': [-122.4070662...  \n",
       "3  {'type': 'Point', 'coordinates': [-122.4070662...  \n",
       "4  {'type': 'Point', 'coordinates': [-122.4070662...  "
      ]
     },
     "execution_count": 6,
     "metadata": {},
     "output_type": "execute_result"
    }
   ],
   "source": [
    "curse = db.clubs.find({},{\"name\":1,\"location\":1,\"latitude\":1,\"longitude\":1})\n",
    "clubs = list(curse)\n",
    "df_clubs= pd.DataFrame(clubs)\n",
    "df_clubs.head()"
   ]
  },
  {
   "cell_type": "code",
   "execution_count": 7,
   "metadata": {
    "scrolled": true
   },
   "outputs": [
    {
     "data": {
      "text/html": [
       "<div>\n",
       "<style scoped>\n",
       "    .dataframe tbody tr th:only-of-type {\n",
       "        vertical-align: middle;\n",
       "    }\n",
       "\n",
       "    .dataframe tbody tr th {\n",
       "        vertical-align: top;\n",
       "    }\n",
       "\n",
       "    .dataframe thead th {\n",
       "        text-align: right;\n",
       "    }\n",
       "</style>\n",
       "<table border=\"1\" class=\"dataframe\">\n",
       "  <thead>\n",
       "    <tr style=\"text-align: right;\">\n",
       "      <th></th>\n",
       "      <th>_id</th>\n",
       "      <th>name</th>\n",
       "      <th>latitude</th>\n",
       "      <th>longitude</th>\n",
       "      <th>location</th>\n",
       "    </tr>\n",
       "  </thead>\n",
       "  <tbody>\n",
       "    <tr>\n",
       "      <th>0</th>\n",
       "      <td>5ef9c5db45de338078b9ab90</td>\n",
       "      <td>John Swett Alternative Elementary School</td>\n",
       "      <td>37.780412</td>\n",
       "      <td>-122.422916</td>\n",
       "      <td>{'type': 'Point', 'coordinates': [-122.422916,...</td>\n",
       "    </tr>\n",
       "    <tr>\n",
       "      <th>1</th>\n",
       "      <td>5ef9c5db45de338078b9ab91</td>\n",
       "      <td>Chinese American International School</td>\n",
       "      <td>37.775275</td>\n",
       "      <td>-122.422111</td>\n",
       "      <td>{'type': 'Point', 'coordinates': [-122.4221108...</td>\n",
       "    </tr>\n",
       "    <tr>\n",
       "      <th>2</th>\n",
       "      <td>5ef9c5db45de338078b9ab92</td>\n",
       "      <td>Mission Dolores Park</td>\n",
       "      <td>37.759990</td>\n",
       "      <td>-122.427118</td>\n",
       "      <td>{'type': 'Point', 'coordinates': [-122.4271184...</td>\n",
       "    </tr>\n",
       "    <tr>\n",
       "      <th>3</th>\n",
       "      <td>5ef9c5db45de338078b9ab93</td>\n",
       "      <td>C5 Children's School</td>\n",
       "      <td>37.778864</td>\n",
       "      <td>-122.414584</td>\n",
       "      <td>{'type': 'Point', 'coordinates': [-122.4145837...</td>\n",
       "    </tr>\n",
       "    <tr>\n",
       "      <th>4</th>\n",
       "      <td>5ef9c5db45de338078b9ab94</td>\n",
       "      <td>John Muir Elementary School</td>\n",
       "      <td>37.773624</td>\n",
       "      <td>-122.428363</td>\n",
       "      <td>{'type': 'Point', 'coordinates': [-122.4283626...</td>\n",
       "    </tr>\n",
       "  </tbody>\n",
       "</table>\n",
       "</div>"
      ],
      "text/plain": [
       "                        _id                                      name  \\\n",
       "0  5ef9c5db45de338078b9ab90  John Swett Alternative Elementary School   \n",
       "1  5ef9c5db45de338078b9ab91     Chinese American International School   \n",
       "2  5ef9c5db45de338078b9ab92                      Mission Dolores Park   \n",
       "3  5ef9c5db45de338078b9ab93                      C5 Children's School   \n",
       "4  5ef9c5db45de338078b9ab94               John Muir Elementary School   \n",
       "\n",
       "    latitude   longitude                                           location  \n",
       "0  37.780412 -122.422916  {'type': 'Point', 'coordinates': [-122.422916,...  \n",
       "1  37.775275 -122.422111  {'type': 'Point', 'coordinates': [-122.4221108...  \n",
       "2  37.759990 -122.427118  {'type': 'Point', 'coordinates': [-122.4271184...  \n",
       "3  37.778864 -122.414584  {'type': 'Point', 'coordinates': [-122.4145837...  \n",
       "4  37.773624 -122.428363  {'type': 'Point', 'coordinates': [-122.4283626...  "
      ]
     },
     "execution_count": 7,
     "metadata": {},
     "output_type": "execute_result"
    }
   ],
   "source": [
    "curse = db.schools.find({},{\"name\":1,\"location\":1,\"latitude\":1,\"longitude\":1})\n",
    "schools = list(curse)\n",
    "df_schools= pd.DataFrame(schools)\n",
    "df_schools.head()"
   ]
  },
  {
   "cell_type": "markdown",
   "metadata": {},
   "source": [
    "Buscaremos el punto exacto desde este punto (37.78131,-122.390025) ya que en el mapa hemos visto que es donde podemos encontrar mayor numero de empresas de gaming, más restaurantes veganos, clubs y colegios. \n",
    " \n"
   ]
  },
  {
   "cell_type": "code",
   "execution_count": 8,
   "metadata": {},
   "outputs": [],
   "source": [
    "def geocode(address):\n",
    "    res = requests.get(f\"https://geocode.xyz/{address}\", params={\"json\":1})\n",
    "    data = res.json()\n",
    "    return {\n",
    "        \"type\":\"Point\",\n",
    "        \"coordinates\":[float(data[\"longt\"]),float(data[\"latt\"])]\n",
    "    }"
   ]
  },
  {
   "cell_type": "code",
   "execution_count": 9,
   "metadata": {},
   "outputs": [],
   "source": [
    "def getlocationeNear(address, maxDist=600):\n",
    "    point = geocode(address)\n",
    "    return {\n",
    "       \"location\": {\n",
    "         \"$near\": {\n",
    "           \"$geometry\": point,\n",
    "           \"$maxDistance\": maxDist,\n",
    "         }\n",
    "       }\n",
    "    }"
   ]
  },
  {
   "cell_type": "code",
   "execution_count": 10,
   "metadata": {},
   "outputs": [
    {
     "data": {
      "text/plain": [
       "{'location': {'$near': {'$geometry': {'type': 'Point',\n",
       "    'coordinates': [-122.39131, 37.78245]},\n",
       "   '$maxDistance': 600}}}"
      ]
     },
     "execution_count": 10,
     "metadata": {},
     "output_type": "execute_result"
    }
   ],
   "source": [
    "query=getlocationeNear(\"Colin P Kelly Jr St, San Francisco, CA, United States of America\") \n",
    "query"
   ]
  },
  {
   "cell_type": "code",
   "execution_count": 11,
   "metadata": {},
   "outputs": [
    {
     "name": "stdout",
     "output_type": "stream",
     "text": [
      "5\n"
     ]
    },
    {
     "name": "stderr",
     "output_type": "stream",
     "text": [
      "/usr/local/lib/python3.7/site-packages/ipykernel_launcher.py:2: DeprecationWarning: count is deprecated. Use Collection.count_documents instead.\n",
      "  \n"
     ]
    },
    {
     "data": {
      "text/plain": [
       "[{'name': 'Mevio',\n",
       "  'latitude': 37.782263,\n",
       "  'longitude': -122.392142,\n",
       "  'Requirement': 'gamer_companies',\n",
       "  'location': {'type': 'Point', 'coordinates': [-122.392142, 37.782263]}},\n",
       " {'name': 'Shattered Reality Interactive',\n",
       "  'latitude': 37.783046,\n",
       "  'longitude': -122.394067,\n",
       "  'Requirement': 'gamer_companies',\n",
       "  'location': {'type': 'Point', 'coordinates': [-122.394067, 37.783046]}},\n",
       " {'name': 'Shattered Reality Interactive',\n",
       "  'latitude': 37.783046,\n",
       "  'longitude': -122.394067,\n",
       "  'Requirement': 'gamer_companies',\n",
       "  'location': {'type': 'Point', 'coordinates': [-122.394067, 37.783046]}},\n",
       " {'name': 'CastTV',\n",
       "  'latitude': 37.780716,\n",
       "  'longitude': -122.393913,\n",
       "  'Requirement': 'gamer_companies',\n",
       "  'location': {'type': 'Point', 'coordinates': [-122.393913, 37.780716]}},\n",
       " {'name': 'Rupture',\n",
       "  'latitude': 37.783898,\n",
       "  'longitude': -122.395234,\n",
       "  'Requirement': 'gamer_companies',\n",
       "  'location': {'type': 'Point', 'coordinates': [-122.395234, 37.783898]}}]"
      ]
     },
     "execution_count": 11,
     "metadata": {},
     "output_type": "execute_result"
    }
   ],
   "source": [
    "cur = db.gamers_companies.find(query, {\"_id\":0})\n",
    "print(cur.count())\n",
    "result = list(cur)\n",
    "result"
   ]
  },
  {
   "cell_type": "code",
   "execution_count": 14,
   "metadata": {},
   "outputs": [
    {
     "name": "stdout",
     "output_type": "stream",
     "text": [
      "0\n"
     ]
    },
    {
     "name": "stderr",
     "output_type": "stream",
     "text": [
      "/usr/local/lib/python3.7/site-packages/ipykernel_launcher.py:2: DeprecationWarning: count is deprecated. Use Collection.count_documents instead.\n",
      "  \n"
     ]
    },
    {
     "data": {
      "text/plain": [
       "[]"
      ]
     },
     "execution_count": 14,
     "metadata": {},
     "output_type": "execute_result"
    }
   ],
   "source": [
    "cur = db.schools.find(query, {\"_id\":0})\n",
    "print(cur.count())\n",
    "result = list(cur)\n",
    "result"
   ]
  },
  {
   "cell_type": "code",
   "execution_count": null,
   "metadata": {},
   "outputs": [],
   "source": []
  },
  {
   "cell_type": "code",
   "execution_count": null,
   "metadata": {},
   "outputs": [],
   "source": []
  },
  {
   "cell_type": "code",
   "execution_count": null,
   "metadata": {},
   "outputs": [],
   "source": []
  },
  {
   "cell_type": "code",
   "execution_count": null,
   "metadata": {},
   "outputs": [],
   "source": []
  }
 ],
 "metadata": {
  "kernelspec": {
   "display_name": "Python 3",
   "language": "python",
   "name": "python3"
  },
  "language_info": {
   "codemirror_mode": {
    "name": "ipython",
    "version": 3
   },
   "file_extension": ".py",
   "mimetype": "text/x-python",
   "name": "python",
   "nbconvert_exporter": "python",
   "pygments_lexer": "ipython3",
   "version": "3.7.7"
  }
 },
 "nbformat": 4,
 "nbformat_minor": 4
}
