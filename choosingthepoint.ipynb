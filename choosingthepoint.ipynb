{
 "cells": [
  {
   "cell_type": "code",
   "execution_count": 1,
   "metadata": {},
   "outputs": [],
   "source": [
    "import pandas as pd\n",
    "import requests\n",
    "import os\n",
    "from dotenv import load_dotenv\n",
    "from pymongo import MongoClient\n",
    "from pandas.io.json import json_normalize\n",
    "import numpy as np\n",
    "from geopy.distance import geodesic"
   ]
  },
  {
   "cell_type": "markdown",
   "metadata": {},
   "source": [
    "``Importo collections sobre los requisitos en San Francisco``"
   ]
  },
  {
   "cell_type": "code",
   "execution_count": 2,
   "metadata": {},
   "outputs": [],
   "source": [
    "dbName = \"Crunchbase_Dataset\"\n",
    "mongodbURL = f\"mongodb://localhost/{dbName}\"\n",
    "client = MongoClient(mongodbURL)\n",
    "db = client.get_database()"
   ]
  },
  {
   "cell_type": "code",
   "execution_count": 3,
   "metadata": {},
   "outputs": [
    {
     "data": {
      "text/html": [
       "<div>\n",
       "<style scoped>\n",
       "    .dataframe tbody tr th:only-of-type {\n",
       "        vertical-align: middle;\n",
       "    }\n",
       "\n",
       "    .dataframe tbody tr th {\n",
       "        vertical-align: top;\n",
       "    }\n",
       "\n",
       "    .dataframe thead th {\n",
       "        text-align: right;\n",
       "    }\n",
       "</style>\n",
       "<table border=\"1\" class=\"dataframe\">\n",
       "  <thead>\n",
       "    <tr style=\"text-align: right;\">\n",
       "      <th></th>\n",
       "      <th>_id</th>\n",
       "      <th>name</th>\n",
       "      <th>latitude</th>\n",
       "      <th>longitude</th>\n",
       "      <th>location</th>\n",
       "    </tr>\n",
       "  </thead>\n",
       "  <tbody>\n",
       "    <tr>\n",
       "      <th>0</th>\n",
       "      <td>5ef9f15345de338078b9ac2e</td>\n",
       "      <td>Ustream</td>\n",
       "      <td>37.392936</td>\n",
       "      <td>-122.079480</td>\n",
       "      <td>{'type': 'Point', 'coordinates': [-122.07948, ...</td>\n",
       "    </tr>\n",
       "    <tr>\n",
       "      <th>1</th>\n",
       "      <td>5ef9f15345de338078b9ac2f</td>\n",
       "      <td>Revision3</td>\n",
       "      <td>37.757758</td>\n",
       "      <td>-122.388243</td>\n",
       "      <td>{'type': 'Point', 'coordinates': [-122.388243,...</td>\n",
       "    </tr>\n",
       "    <tr>\n",
       "      <th>2</th>\n",
       "      <td>5ef9f15345de338078b9ac30</td>\n",
       "      <td>CastTV</td>\n",
       "      <td>37.780716</td>\n",
       "      <td>-122.393913</td>\n",
       "      <td>{'type': 'Point', 'coordinates': [-122.393913,...</td>\n",
       "    </tr>\n",
       "    <tr>\n",
       "      <th>3</th>\n",
       "      <td>5ef9f15345de338078b9ac31</td>\n",
       "      <td>hi5</td>\n",
       "      <td>37.788668</td>\n",
       "      <td>-122.400558</td>\n",
       "      <td>{'type': 'Point', 'coordinates': [-122.400558,...</td>\n",
       "    </tr>\n",
       "    <tr>\n",
       "      <th>4</th>\n",
       "      <td>5ef9f15345de338078b9ac32</td>\n",
       "      <td>Metacafe</td>\n",
       "      <td>37.437328</td>\n",
       "      <td>-122.159928</td>\n",
       "      <td>{'type': 'Point', 'coordinates': [-122.159928,...</td>\n",
       "    </tr>\n",
       "  </tbody>\n",
       "</table>\n",
       "</div>"
      ],
      "text/plain": [
       "                        _id       name   latitude   longitude  \\\n",
       "0  5ef9f15345de338078b9ac2e    Ustream  37.392936 -122.079480   \n",
       "1  5ef9f15345de338078b9ac2f  Revision3  37.757758 -122.388243   \n",
       "2  5ef9f15345de338078b9ac30     CastTV  37.780716 -122.393913   \n",
       "3  5ef9f15345de338078b9ac31        hi5  37.788668 -122.400558   \n",
       "4  5ef9f15345de338078b9ac32   Metacafe  37.437328 -122.159928   \n",
       "\n",
       "                                            location  \n",
       "0  {'type': 'Point', 'coordinates': [-122.07948, ...  \n",
       "1  {'type': 'Point', 'coordinates': [-122.388243,...  \n",
       "2  {'type': 'Point', 'coordinates': [-122.393913,...  \n",
       "3  {'type': 'Point', 'coordinates': [-122.400558,...  \n",
       "4  {'type': 'Point', 'coordinates': [-122.159928,...  "
      ]
     },
     "execution_count": 3,
     "metadata": {},
     "output_type": "execute_result"
    }
   ],
   "source": [
    "curse = db.gamers_over_1.find({},{\"name\":1,\"location\":1,\"latitude\":1,\"longitude\":1})\n",
    "gamer_companies = list(curse)\n",
    "df= pd.DataFrame(gamer_companies)\n",
    "df.head()"
   ]
  },
  {
   "cell_type": "code",
   "execution_count": 4,
   "metadata": {
    "scrolled": true
   },
   "outputs": [
    {
     "data": {
      "text/html": [
       "<div>\n",
       "<style scoped>\n",
       "    .dataframe tbody tr th:only-of-type {\n",
       "        vertical-align: middle;\n",
       "    }\n",
       "\n",
       "    .dataframe tbody tr th {\n",
       "        vertical-align: top;\n",
       "    }\n",
       "\n",
       "    .dataframe thead th {\n",
       "        text-align: right;\n",
       "    }\n",
       "</style>\n",
       "<table border=\"1\" class=\"dataframe\">\n",
       "  <thead>\n",
       "    <tr style=\"text-align: right;\">\n",
       "      <th></th>\n",
       "      <th>_id</th>\n",
       "      <th>name</th>\n",
       "      <th>latitude</th>\n",
       "      <th>longitude</th>\n",
       "      <th>location</th>\n",
       "    </tr>\n",
       "  </thead>\n",
       "  <tbody>\n",
       "    <tr>\n",
       "      <th>0</th>\n",
       "      <td>5ef9f16e45de338078b9ac4c</td>\n",
       "      <td>Ananda Fuara</td>\n",
       "      <td>37.777693</td>\n",
       "      <td>-122.416353</td>\n",
       "      <td>{'type': 'Point', 'coordinates': [-122.4163533...</td>\n",
       "    </tr>\n",
       "    <tr>\n",
       "      <th>1</th>\n",
       "      <td>5ef9f16e45de338078b9ac4d</td>\n",
       "      <td>Golden Era Vegan</td>\n",
       "      <td>37.781495</td>\n",
       "      <td>-122.416822</td>\n",
       "      <td>{'type': 'Point', 'coordinates': [-122.4168223...</td>\n",
       "    </tr>\n",
       "    <tr>\n",
       "      <th>2</th>\n",
       "      <td>5ef9f16e45de338078b9ac4e</td>\n",
       "      <td>Thai Idea Vegetarian Restaurant</td>\n",
       "      <td>37.783395</td>\n",
       "      <td>-122.419141</td>\n",
       "      <td>{'type': 'Point', 'coordinates': [-122.419141,...</td>\n",
       "    </tr>\n",
       "    <tr>\n",
       "      <th>3</th>\n",
       "      <td>5ef9f16e45de338078b9ac4f</td>\n",
       "      <td>Brenda's French Soul Food</td>\n",
       "      <td>37.782896</td>\n",
       "      <td>-122.418897</td>\n",
       "      <td>{'type': 'Point', 'coordinates': [-122.4188974...</td>\n",
       "    </tr>\n",
       "    <tr>\n",
       "      <th>4</th>\n",
       "      <td>5ef9f16e45de338078b9ac50</td>\n",
       "      <td>Ike's Sandwiches</td>\n",
       "      <td>37.785146</td>\n",
       "      <td>-122.419629</td>\n",
       "      <td>{'type': 'Point', 'coordinates': [-122.4196290...</td>\n",
       "    </tr>\n",
       "  </tbody>\n",
       "</table>\n",
       "</div>"
      ],
      "text/plain": [
       "                        _id                             name   latitude  \\\n",
       "0  5ef9f16e45de338078b9ac4c                     Ananda Fuara  37.777693   \n",
       "1  5ef9f16e45de338078b9ac4d                 Golden Era Vegan  37.781495   \n",
       "2  5ef9f16e45de338078b9ac4e  Thai Idea Vegetarian Restaurant  37.783395   \n",
       "3  5ef9f16e45de338078b9ac4f        Brenda's French Soul Food  37.782896   \n",
       "4  5ef9f16e45de338078b9ac50                 Ike's Sandwiches  37.785146   \n",
       "\n",
       "    longitude                                           location  \n",
       "0 -122.416353  {'type': 'Point', 'coordinates': [-122.4163533...  \n",
       "1 -122.416822  {'type': 'Point', 'coordinates': [-122.4168223...  \n",
       "2 -122.419141  {'type': 'Point', 'coordinates': [-122.419141,...  \n",
       "3 -122.418897  {'type': 'Point', 'coordinates': [-122.4188974...  \n",
       "4 -122.419629  {'type': 'Point', 'coordinates': [-122.4196290...  "
      ]
     },
     "execution_count": 4,
     "metadata": {},
     "output_type": "execute_result"
    }
   ],
   "source": [
    "curse = db.vegan.find({},{\"name\":1,\"location\":1,\"latitude\":1,\"longitude\":1})\n",
    "vegan = list(curse)\n",
    "df_vegan= pd.DataFrame(vegan)\n",
    "df_vegan.head()"
   ]
  },
  {
   "cell_type": "code",
   "execution_count": 5,
   "metadata": {
    "scrolled": true
   },
   "outputs": [
    {
     "data": {
      "text/html": [
       "<div>\n",
       "<style scoped>\n",
       "    .dataframe tbody tr th:only-of-type {\n",
       "        vertical-align: middle;\n",
       "    }\n",
       "\n",
       "    .dataframe tbody tr th {\n",
       "        vertical-align: top;\n",
       "    }\n",
       "\n",
       "    .dataframe thead th {\n",
       "        text-align: right;\n",
       "    }\n",
       "</style>\n",
       "<table border=\"1\" class=\"dataframe\">\n",
       "  <thead>\n",
       "    <tr style=\"text-align: right;\">\n",
       "      <th></th>\n",
       "      <th>_id</th>\n",
       "      <th>name</th>\n",
       "      <th>latitude</th>\n",
       "      <th>longitude</th>\n",
       "      <th>location</th>\n",
       "    </tr>\n",
       "  </thead>\n",
       "  <tbody>\n",
       "    <tr>\n",
       "      <th>0</th>\n",
       "      <td>5ef9f12245de338078b9ac0a</td>\n",
       "      <td>West Sunset RC Flying Field</td>\n",
       "      <td>37.748486</td>\n",
       "      <td>-122.497641</td>\n",
       "      <td>{'type': 'Point', 'coordinates': [-122.4976407...</td>\n",
       "    </tr>\n",
       "    <tr>\n",
       "      <th>1</th>\n",
       "      <td>5ef9f12245de338078b9ac0b</td>\n",
       "      <td>Design To Win Foundation</td>\n",
       "      <td>37.790943</td>\n",
       "      <td>-122.408499</td>\n",
       "      <td>{'type': 'Point', 'coordinates': [-122.4084994...</td>\n",
       "    </tr>\n",
       "    <tr>\n",
       "      <th>2</th>\n",
       "      <td>5ef9f12245de338078b9ac0c</td>\n",
       "      <td>SFO</td>\n",
       "      <td>37.785729</td>\n",
       "      <td>-122.410446</td>\n",
       "      <td>{'type': 'Point', 'coordinates': [-122.4104463...</td>\n",
       "    </tr>\n",
       "    <tr>\n",
       "      <th>3</th>\n",
       "      <td>5ef9f12245de338078b9ac0d</td>\n",
       "      <td>MUrgency Inc. (Airport Assistance; Tech Innova...</td>\n",
       "      <td>37.766902</td>\n",
       "      <td>-122.419558</td>\n",
       "      <td>{'type': 'Point', 'coordinates': [-122.419558,...</td>\n",
       "    </tr>\n",
       "    <tr>\n",
       "      <th>4</th>\n",
       "      <td>5ef9f12245de338078b9ac0e</td>\n",
       "      <td>Airport Express</td>\n",
       "      <td>37.778891</td>\n",
       "      <td>-122.402358</td>\n",
       "      <td>{'type': 'Point', 'coordinates': [-122.402358,...</td>\n",
       "    </tr>\n",
       "  </tbody>\n",
       "</table>\n",
       "</div>"
      ],
      "text/plain": [
       "                        _id  \\\n",
       "0  5ef9f12245de338078b9ac0a   \n",
       "1  5ef9f12245de338078b9ac0b   \n",
       "2  5ef9f12245de338078b9ac0c   \n",
       "3  5ef9f12245de338078b9ac0d   \n",
       "4  5ef9f12245de338078b9ac0e   \n",
       "\n",
       "                                                name   latitude   longitude  \\\n",
       "0                        West Sunset RC Flying Field  37.748486 -122.497641   \n",
       "1                           Design To Win Foundation  37.790943 -122.408499   \n",
       "2                                                SFO  37.785729 -122.410446   \n",
       "3  MUrgency Inc. (Airport Assistance; Tech Innova...  37.766902 -122.419558   \n",
       "4                                    Airport Express  37.778891 -122.402358   \n",
       "\n",
       "                                            location  \n",
       "0  {'type': 'Point', 'coordinates': [-122.4976407...  \n",
       "1  {'type': 'Point', 'coordinates': [-122.4084994...  \n",
       "2  {'type': 'Point', 'coordinates': [-122.4104463...  \n",
       "3  {'type': 'Point', 'coordinates': [-122.419558,...  \n",
       "4  {'type': 'Point', 'coordinates': [-122.402358,...  "
      ]
     },
     "execution_count": 5,
     "metadata": {},
     "output_type": "execute_result"
    }
   ],
   "source": [
    "curse = db.airport.find({},{\"name\":1,\"location\":1,\"latitude\":1,\"longitude\":1})\n",
    "airports = list(curse)\n",
    "df_airports= pd.DataFrame(airports)\n",
    "df_airports.head()"
   ]
  },
  {
   "cell_type": "code",
   "execution_count": 6,
   "metadata": {},
   "outputs": [
    {
     "data": {
      "text/html": [
       "<div>\n",
       "<style scoped>\n",
       "    .dataframe tbody tr th:only-of-type {\n",
       "        vertical-align: middle;\n",
       "    }\n",
       "\n",
       "    .dataframe tbody tr th {\n",
       "        vertical-align: top;\n",
       "    }\n",
       "\n",
       "    .dataframe thead th {\n",
       "        text-align: right;\n",
       "    }\n",
       "</style>\n",
       "<table border=\"1\" class=\"dataframe\">\n",
       "  <thead>\n",
       "    <tr style=\"text-align: right;\">\n",
       "      <th></th>\n",
       "      <th>_id</th>\n",
       "      <th>name</th>\n",
       "      <th>latitude</th>\n",
       "      <th>longitude</th>\n",
       "      <th>location</th>\n",
       "    </tr>\n",
       "  </thead>\n",
       "  <tbody>\n",
       "    <tr>\n",
       "      <th>0</th>\n",
       "      <td>5ef9f13e45de338078b9ac1a</td>\n",
       "      <td>Zero Zero</td>\n",
       "      <td>37.781636</td>\n",
       "      <td>-122.402083</td>\n",
       "      <td>{'type': 'Point', 'coordinates': [-122.4196054...</td>\n",
       "    </tr>\n",
       "    <tr>\n",
       "      <th>1</th>\n",
       "      <td>5ef9f13e45de338078b9ac1b</td>\n",
       "      <td>Smuggler's Cove</td>\n",
       "      <td>37.779403</td>\n",
       "      <td>-122.423372</td>\n",
       "      <td>{'type': 'Point', 'coordinates': [-122.4196054...</td>\n",
       "    </tr>\n",
       "    <tr>\n",
       "      <th>2</th>\n",
       "      <td>5ef9f13e45de338078b9ac1c</td>\n",
       "      <td>The Valencia Room</td>\n",
       "      <td>37.762506</td>\n",
       "      <td>-122.421412</td>\n",
       "      <td>{'type': 'Point', 'coordinates': [-122.4196054...</td>\n",
       "    </tr>\n",
       "    <tr>\n",
       "      <th>3</th>\n",
       "      <td>5ef9f13e45de338078b9ac1d</td>\n",
       "      <td>The Grand</td>\n",
       "      <td>37.779100</td>\n",
       "      <td>-122.397900</td>\n",
       "      <td>{'type': 'Point', 'coordinates': [-122.4196054...</td>\n",
       "    </tr>\n",
       "    <tr>\n",
       "      <th>4</th>\n",
       "      <td>5ef9f13e45de338078b9ac1e</td>\n",
       "      <td>Edinburgh Castle Pub</td>\n",
       "      <td>37.786127</td>\n",
       "      <td>-122.418957</td>\n",
       "      <td>{'type': 'Point', 'coordinates': [-122.4196054...</td>\n",
       "    </tr>\n",
       "  </tbody>\n",
       "</table>\n",
       "</div>"
      ],
      "text/plain": [
       "                        _id                  name   latitude   longitude  \\\n",
       "0  5ef9f13e45de338078b9ac1a             Zero Zero  37.781636 -122.402083   \n",
       "1  5ef9f13e45de338078b9ac1b       Smuggler's Cove  37.779403 -122.423372   \n",
       "2  5ef9f13e45de338078b9ac1c     The Valencia Room  37.762506 -122.421412   \n",
       "3  5ef9f13e45de338078b9ac1d             The Grand  37.779100 -122.397900   \n",
       "4  5ef9f13e45de338078b9ac1e  Edinburgh Castle Pub  37.786127 -122.418957   \n",
       "\n",
       "                                            location  \n",
       "0  {'type': 'Point', 'coordinates': [-122.4196054...  \n",
       "1  {'type': 'Point', 'coordinates': [-122.4196054...  \n",
       "2  {'type': 'Point', 'coordinates': [-122.4196054...  \n",
       "3  {'type': 'Point', 'coordinates': [-122.4196054...  \n",
       "4  {'type': 'Point', 'coordinates': [-122.4196054...  "
      ]
     },
     "execution_count": 6,
     "metadata": {},
     "output_type": "execute_result"
    }
   ],
   "source": [
    "curse = db.clubs.find({},{\"name\":1,\"location\":1,\"latitude\":1,\"longitude\":1})\n",
    "clubs = list(curse)\n",
    "df_clubs= pd.DataFrame(clubs)\n",
    "df_clubs.head()"
   ]
  },
  {
   "cell_type": "code",
   "execution_count": 7,
   "metadata": {
    "scrolled": true
   },
   "outputs": [
    {
     "data": {
      "text/html": [
       "<div>\n",
       "<style scoped>\n",
       "    .dataframe tbody tr th:only-of-type {\n",
       "        vertical-align: middle;\n",
       "    }\n",
       "\n",
       "    .dataframe tbody tr th {\n",
       "        vertical-align: top;\n",
       "    }\n",
       "\n",
       "    .dataframe thead th {\n",
       "        text-align: right;\n",
       "    }\n",
       "</style>\n",
       "<table border=\"1\" class=\"dataframe\">\n",
       "  <thead>\n",
       "    <tr style=\"text-align: right;\">\n",
       "      <th></th>\n",
       "      <th>_id</th>\n",
       "      <th>name</th>\n",
       "      <th>latitude</th>\n",
       "      <th>longitude</th>\n",
       "      <th>location</th>\n",
       "    </tr>\n",
       "  </thead>\n",
       "  <tbody>\n",
       "    <tr>\n",
       "      <th>0</th>\n",
       "      <td>5ef9f16145de338078b9ac43</td>\n",
       "      <td>John Swett Alternative Elementary School</td>\n",
       "      <td>37.780412</td>\n",
       "      <td>-122.422916</td>\n",
       "      <td>{'type': 'Point', 'coordinates': [-122.422916,...</td>\n",
       "    </tr>\n",
       "    <tr>\n",
       "      <th>1</th>\n",
       "      <td>5ef9f16145de338078b9ac44</td>\n",
       "      <td>Patricia's Green</td>\n",
       "      <td>37.776369</td>\n",
       "      <td>-122.424479</td>\n",
       "      <td>{'type': 'Point', 'coordinates': [-122.4244790...</td>\n",
       "    </tr>\n",
       "    <tr>\n",
       "      <th>2</th>\n",
       "      <td>5ef9f16145de338078b9ac45</td>\n",
       "      <td>Chinese American International School</td>\n",
       "      <td>37.775275</td>\n",
       "      <td>-122.422111</td>\n",
       "      <td>{'type': 'Point', 'coordinates': [-122.4221108...</td>\n",
       "    </tr>\n",
       "    <tr>\n",
       "      <th>3</th>\n",
       "      <td>5ef9f16145de338078b9ac46</td>\n",
       "      <td>C5 Children's School</td>\n",
       "      <td>37.778864</td>\n",
       "      <td>-122.414584</td>\n",
       "      <td>{'type': 'Point', 'coordinates': [-122.4145837...</td>\n",
       "    </tr>\n",
       "    <tr>\n",
       "      <th>4</th>\n",
       "      <td>5ef9f16145de338078b9ac47</td>\n",
       "      <td>John Muir Elementary School</td>\n",
       "      <td>37.773624</td>\n",
       "      <td>-122.428363</td>\n",
       "      <td>{'type': 'Point', 'coordinates': [-122.4283626...</td>\n",
       "    </tr>\n",
       "  </tbody>\n",
       "</table>\n",
       "</div>"
      ],
      "text/plain": [
       "                        _id                                      name  \\\n",
       "0  5ef9f16145de338078b9ac43  John Swett Alternative Elementary School   \n",
       "1  5ef9f16145de338078b9ac44                          Patricia's Green   \n",
       "2  5ef9f16145de338078b9ac45     Chinese American International School   \n",
       "3  5ef9f16145de338078b9ac46                      C5 Children's School   \n",
       "4  5ef9f16145de338078b9ac47               John Muir Elementary School   \n",
       "\n",
       "    latitude   longitude                                           location  \n",
       "0  37.780412 -122.422916  {'type': 'Point', 'coordinates': [-122.422916,...  \n",
       "1  37.776369 -122.424479  {'type': 'Point', 'coordinates': [-122.4244790...  \n",
       "2  37.775275 -122.422111  {'type': 'Point', 'coordinates': [-122.4221108...  \n",
       "3  37.778864 -122.414584  {'type': 'Point', 'coordinates': [-122.4145837...  \n",
       "4  37.773624 -122.428363  {'type': 'Point', 'coordinates': [-122.4283626...  "
      ]
     },
     "execution_count": 7,
     "metadata": {},
     "output_type": "execute_result"
    }
   ],
   "source": [
    "curse = db.school.find({},{\"name\":1,\"location\":1,\"latitude\":1,\"longitude\":1})\n",
    "schools = list(curse)\n",
    "df_schools= pd.DataFrame(schools)\n",
    "df_schools.head()"
   ]
  },
  {
   "cell_type": "code",
   "execution_count": 8,
   "metadata": {},
   "outputs": [
    {
     "data": {
      "text/html": [
       "<div>\n",
       "<style scoped>\n",
       "    .dataframe tbody tr th:only-of-type {\n",
       "        vertical-align: middle;\n",
       "    }\n",
       "\n",
       "    .dataframe tbody tr th {\n",
       "        vertical-align: top;\n",
       "    }\n",
       "\n",
       "    .dataframe thead th {\n",
       "        text-align: right;\n",
       "    }\n",
       "</style>\n",
       "<table border=\"1\" class=\"dataframe\">\n",
       "  <thead>\n",
       "    <tr style=\"text-align: right;\">\n",
       "      <th></th>\n",
       "      <th>_id</th>\n",
       "      <th>name</th>\n",
       "      <th>latitude</th>\n",
       "      <th>longitude</th>\n",
       "      <th>location</th>\n",
       "    </tr>\n",
       "  </thead>\n",
       "  <tbody>\n",
       "    <tr>\n",
       "      <th>0</th>\n",
       "      <td>5ef9f13145de338078b9ac13</td>\n",
       "      <td>The Fillmore</td>\n",
       "      <td>37.783952</td>\n",
       "      <td>-122.433033</td>\n",
       "      <td>{'type': 'Point', 'coordinates': [-122.4330327...</td>\n",
       "    </tr>\n",
       "    <tr>\n",
       "      <th>1</th>\n",
       "      <td>5ef9f13145de338078b9ac14</td>\n",
       "      <td>The Armory</td>\n",
       "      <td>37.768075</td>\n",
       "      <td>-122.420768</td>\n",
       "      <td>{'type': 'Point', 'coordinates': [-122.4207681...</td>\n",
       "    </tr>\n",
       "    <tr>\n",
       "      <th>2</th>\n",
       "      <td>5ef9f13145de338078b9ac15</td>\n",
       "      <td>DNA Lounge</td>\n",
       "      <td>37.770956</td>\n",
       "      <td>-122.412689</td>\n",
       "      <td>{'type': 'Point', 'coordinates': [-122.4126888...</td>\n",
       "    </tr>\n",
       "    <tr>\n",
       "      <th>3</th>\n",
       "      <td>5ef9f13145de338078b9ac16</td>\n",
       "      <td>Chase Center</td>\n",
       "      <td>37.767864</td>\n",
       "      <td>-122.387463</td>\n",
       "      <td>{'type': 'Point', 'coordinates': [-122.387463,...</td>\n",
       "    </tr>\n",
       "    <tr>\n",
       "      <th>4</th>\n",
       "      <td>5ef9f13145de338078b9ac17</td>\n",
       "      <td>24 Hour Fitness</td>\n",
       "      <td>37.766728</td>\n",
       "      <td>-122.429692</td>\n",
       "      <td>{'type': 'Point', 'coordinates': [-122.4296917...</td>\n",
       "    </tr>\n",
       "  </tbody>\n",
       "</table>\n",
       "</div>"
      ],
      "text/plain": [
       "                        _id             name   latitude   longitude  \\\n",
       "0  5ef9f13145de338078b9ac13     The Fillmore  37.783952 -122.433033   \n",
       "1  5ef9f13145de338078b9ac14       The Armory  37.768075 -122.420768   \n",
       "2  5ef9f13145de338078b9ac15       DNA Lounge  37.770956 -122.412689   \n",
       "3  5ef9f13145de338078b9ac16     Chase Center  37.767864 -122.387463   \n",
       "4  5ef9f13145de338078b9ac17  24 Hour Fitness  37.766728 -122.429692   \n",
       "\n",
       "                                            location  \n",
       "0  {'type': 'Point', 'coordinates': [-122.4330327...  \n",
       "1  {'type': 'Point', 'coordinates': [-122.4207681...  \n",
       "2  {'type': 'Point', 'coordinates': [-122.4126888...  \n",
       "3  {'type': 'Point', 'coordinates': [-122.387463,...  \n",
       "4  {'type': 'Point', 'coordinates': [-122.4296917...  "
      ]
     },
     "execution_count": 8,
     "metadata": {},
     "output_type": "execute_result"
    }
   ],
   "source": [
    "curse = db.basketball.find({},{\"name\":1,\"location\":1,\"latitude\":1,\"longitude\":1})\n",
    "schools = list(curse)\n",
    "df_schools= pd.DataFrame(schools)\n",
    "df_schools.head()"
   ]
  },
  {
   "cell_type": "markdown",
   "metadata": {},
   "source": [
    "Buscaremos el punto exacto desde este punto (37.7836386,-122.398522) ya que en el mapa hemos visto que es donde podemos encontrar mayor numero de empresas de gaming, más restaurantes veganos, clubs , colegios y pistas de basketball.\n",
    "\n"
   ]
  },
  {
   "cell_type": "code",
   "execution_count": 9,
   "metadata": {},
   "outputs": [],
   "source": [
    "def geocode(address):\n",
    "    res = requests.get(f\"https://geocode.xyz/{address}\", params={\"json\":1})\n",
    "    data = res.json()\n",
    "    return {\n",
    "        \"type\":\"Point\",\n",
    "        \"coordinates\":[float(data[\"longt\"]),float(data[\"latt\"])]\n",
    "    }"
   ]
  },
  {
   "cell_type": "code",
   "execution_count": 12,
   "metadata": {},
   "outputs": [],
   "source": [
    "def getlocationeNear(address, maxDist=500):\n",
    "    point = geocode(address)\n",
    "    return {\n",
    "       \"location\": {\n",
    "         \"$near\": {\n",
    "           \"$geometry\": point,\n",
    "           \"$maxDistance\": maxDist,\n",
    "         }\n",
    "       }\n",
    "    }"
   ]
  },
  {
   "cell_type": "code",
   "execution_count": 13,
   "metadata": {},
   "outputs": [
    {
     "data": {
      "text/plain": [
       "{'location': {'$near': {'$geometry': {'type': 'Point',\n",
       "    'coordinates': [-122.39516, 37.78431]},\n",
       "   '$maxDistance': 500}}}"
      ]
     },
     "execution_count": 13,
     "metadata": {},
     "output_type": "execute_result"
    }
   ],
   "source": [
    "gamer=getlocationeNear(\"SIE, 400 2nd Street, San Francisco, CA 94017, Estados Unidos\") #la empresa de diseño de juegos que vale más de un millón más cerca según el punto\n",
    "gamer"
   ]
  },
  {
   "cell_type": "code",
   "execution_count": 14,
   "metadata": {},
   "outputs": [
    {
     "name": "stdout",
     "output_type": "stream",
     "text": [
      "12\n"
     ]
    },
    {
     "name": "stderr",
     "output_type": "stream",
     "text": [
      "/usr/local/lib/python3.7/site-packages/ipykernel_launcher.py:2: DeprecationWarning: count is deprecated. Use Collection.count_documents instead.\n",
      "  \n"
     ]
    },
    {
     "data": {
      "text/plain": [
       "[{'name': 'Rupture',\n",
       "  'total_money_raised': '$3M',\n",
       "  'description': 'Headquarters',\n",
       "  'address1': '400 2nd Street',\n",
       "  'address2': 'Suite 350',\n",
       "  'zip_code': '94107',\n",
       "  'city': 'San Francisco',\n",
       "  'state_code': 'CA',\n",
       "  'country_code': 'USA',\n",
       "  'latitude': 37.783898,\n",
       "  'longitude': -122.395234,\n",
       "  'location': {'type': 'Point', 'coordinates': [-122.395234, 37.783898]}},\n",
       " {'name': 'Shattered Reality Interactive',\n",
       "  'total_money_raised': '$1.1M',\n",
       "  'description': 'Main Office',\n",
       "  'address1': '490 2nd Street',\n",
       "  'address2': 'Suite 100',\n",
       "  'zip_code': '94107',\n",
       "  'city': 'San Francisco',\n",
       "  'state_code': 'CA',\n",
       "  'country_code': 'USA',\n",
       "  'latitude': 37.783046,\n",
       "  'longitude': -122.394067,\n",
       "  'location': {'type': 'Point', 'coordinates': [-122.394067, 37.783046]}},\n",
       " {'name': 'Shattered Reality Interactive',\n",
       "  'total_money_raised': '$1.1M',\n",
       "  'description': 'Main Office',\n",
       "  'address1': '490 2nd Street',\n",
       "  'address2': 'Suite 100',\n",
       "  'zip_code': '94107',\n",
       "  'city': 'San Francisco',\n",
       "  'state_code': 'CA',\n",
       "  'country_code': 'USA',\n",
       "  'latitude': 37.783046,\n",
       "  'longitude': -122.394067,\n",
       "  'location': {'type': 'Point', 'coordinates': [-122.394067, 37.783046]}},\n",
       " {'name': 'Mevio',\n",
       "  'total_money_raised': '$48.9M',\n",
       "  'description': '',\n",
       "  'address1': '577 2nd St Suite 203',\n",
       "  'address2': '',\n",
       "  'zip_code': '94107',\n",
       "  'city': 'San Francisco',\n",
       "  'state_code': 'CA',\n",
       "  'country_code': 'USA',\n",
       "  'latitude': 37.782263,\n",
       "  'longitude': -122.392142,\n",
       "  'location': {'type': 'Point', 'coordinates': [-122.392142, 37.782263]}},\n",
       " {'name': 'Lexy',\n",
       "  'total_money_raised': '$1.71M',\n",
       "  'description': 'Corporate Headquarters',\n",
       "  'address1': '589 Howard Street',\n",
       "  'address2': 'Fifth Floor',\n",
       "  'zip_code': '94105',\n",
       "  'city': 'San Francisco',\n",
       "  'state_code': 'CA',\n",
       "  'country_code': 'USA',\n",
       "  'latitude': 37.786906,\n",
       "  'longitude': -122.397672,\n",
       "  'location': {'type': 'Point', 'coordinates': [-122.397672, 37.786906]}},\n",
       " {'name': 'Crunchyroll',\n",
       "  'total_money_raised': '$4.8M',\n",
       "  'description': '',\n",
       "  'address1': '',\n",
       "  'address2': '',\n",
       "  'zip_code': '94105',\n",
       "  'city': 'San Francisco',\n",
       "  'state_code': 'CA',\n",
       "  'country_code': 'USA',\n",
       "  'latitude': 37.781265,\n",
       "  'longitude': -122.393229,\n",
       "  'location': {'type': 'Point', 'coordinates': [-122.393229, 37.781265]}},\n",
       " {'name': \"eBaum's World\",\n",
       "  'total_money_raised': '$0',\n",
       "  'description': '',\n",
       "  'address1': '612 Howard St.',\n",
       "  'address2': 'Suite 600',\n",
       "  'zip_code': '94105',\n",
       "  'city': 'San Francisco',\n",
       "  'state_code': 'CA',\n",
       "  'country_code': 'USA',\n",
       "  'latitude': 37.786393,\n",
       "  'longitude': -122.3987745,\n",
       "  'location': {'type': 'Point', 'coordinates': [-122.3987745, 37.786393]}},\n",
       " {'name': 'CastTV',\n",
       "  'total_money_raised': '$3.1M',\n",
       "  'description': 'null',\n",
       "  'address1': '374 Brannan St.',\n",
       "  'address2': 'null',\n",
       "  'zip_code': '94107',\n",
       "  'city': 'San Francisco',\n",
       "  'state_code': 'CA',\n",
       "  'country_code': 'USA',\n",
       "  'latitude': 37.780716,\n",
       "  'longitude': -122.393913,\n",
       "  'location': {'type': 'Point', 'coordinates': [-122.393913, 37.780716]}},\n",
       " {'name': 'iWin',\n",
       "  'total_money_raised': '$0',\n",
       "  'description': '',\n",
       "  'address1': '45 Fremont Street',\n",
       "  'address2': 'Suite 3100',\n",
       "  'zip_code': '94105',\n",
       "  'city': 'San Francisco',\n",
       "  'state_code': 'CA',\n",
       "  'country_code': 'USA',\n",
       "  'latitude': 37.781689,\n",
       "  'longitude': -122.391061,\n",
       "  'location': {'type': 'Point', 'coordinates': [-122.391061, 37.781689]}},\n",
       " {'name': 'Scavenja',\n",
       "  'total_money_raised': '$0',\n",
       "  'description': '',\n",
       "  'address1': '539 Bryant St.,',\n",
       "  'address2': 'Suite 402',\n",
       "  'zip_code': '94107',\n",
       "  'city': 'San Francisco',\n",
       "  'state_code': 'CA',\n",
       "  'country_code': 'USA',\n",
       "  'latitude': 37.780134,\n",
       "  'longitude': -122.396744,\n",
       "  'location': {'type': 'Point', 'coordinates': [-122.396744, 37.780134]}},\n",
       " {'name': 'IODA',\n",
       "  'total_money_raised': '$0',\n",
       "  'description': 'null',\n",
       "  'address1': '539 Bryant Street, Suite 303',\n",
       "  'address2': 'null',\n",
       "  'zip_code': '94107',\n",
       "  'city': 'San Francisco',\n",
       "  'state_code': 'CA',\n",
       "  'country_code': 'USA',\n",
       "  'latitude': 37.780134,\n",
       "  'longitude': -122.396744,\n",
       "  'location': {'type': 'Point', 'coordinates': [-122.396744, 37.780134]}},\n",
       " {'name': 'NaturalMotion',\n",
       "  'total_money_raised': '$0',\n",
       "  'description': 'San Francisco',\n",
       "  'address1': '143 2nd Street',\n",
       "  'address2': 'Fifth Floor',\n",
       "  'zip_code': '94105',\n",
       "  'city': 'San Francisco',\n",
       "  'state_code': 'CA',\n",
       "  'country_code': 'USA',\n",
       "  'latitude': 37.7875304,\n",
       "  'longitude': -122.3989996,\n",
       "  'location': {'type': 'Point', 'coordinates': [-122.3989996, 37.7875304]}}]"
      ]
     },
     "execution_count": 14,
     "metadata": {},
     "output_type": "execute_result"
    }
   ],
   "source": [
    "cur = db.gamings.find(gamer, {\"_id\":0})\n",
    "print(cur.count())\n",
    "result = list(cur)\n",
    "result"
   ]
  },
  {
   "cell_type": "code",
   "execution_count": 24,
   "metadata": {},
   "outputs": [
    {
     "data": {
      "text/plain": [
       "{'location': {'$near': {'$geometry': {'type': 'Point',\n",
       "    'coordinates': [-122.44049, 37.78806]},\n",
       "   '$maxDistance': 600}}}"
      ]
     },
     "execution_count": 24,
     "metadata": {},
     "output_type": "execute_result"
    }
   ],
   "source": [
    "vegan=getlocationeNear(\"Dottie's True Blue Cafe, San Francisco, California\", maxDist=600) #el restaurante vegano  más cerca según el punto\n",
    "\n",
    "vegan"
   ]
  },
  {
   "cell_type": "code",
   "execution_count": 46,
   "metadata": {},
   "outputs": [
    {
     "name": "stdout",
     "output_type": "stream",
     "text": [
      "0\n"
     ]
    },
    {
     "name": "stderr",
     "output_type": "stream",
     "text": [
      "/usr/local/lib/python3.7/site-packages/ipykernel_launcher.py:2: DeprecationWarning: count is deprecated. Use Collection.count_documents instead.\n",
      "  \n"
     ]
    },
    {
     "data": {
      "text/plain": [
       "[]"
      ]
     },
     "execution_count": 46,
     "metadata": {},
     "output_type": "execute_result"
    }
   ],
   "source": [
    "cur = db.gamings.find(vegan, {\"_id\":0})\n",
    "print(cur.count())\n",
    "result = list(cur)\n",
    "result"
   ]
  },
  {
   "cell_type": "code",
   "execution_count": 47,
   "metadata": {},
   "outputs": [
    {
     "data": {
      "text/plain": [
       "{'location': {'$near': {'$geometry': {'type': 'Point',\n",
       "    'coordinates': [-122.40615, 37.7754]},\n",
       "   '$maxDistance': 1000}}}"
      ]
     },
     "execution_count": 47,
     "metadata": {},
     "output_type": "execute_result"
    }
   ],
   "source": [
    "school=getlocationeNear(\"375 7th St, San Francisco, CA 94103, United States\",maxDist=1000) #el colegio   más cerca según el punto\n",
    "\n",
    "school"
   ]
  },
  {
   "cell_type": "code",
   "execution_count": 48,
   "metadata": {},
   "outputs": [
    {
     "name": "stdout",
     "output_type": "stream",
     "text": [
      "5\n"
     ]
    },
    {
     "name": "stderr",
     "output_type": "stream",
     "text": [
      "/usr/local/lib/python3.7/site-packages/ipykernel_launcher.py:2: DeprecationWarning: count is deprecated. Use Collection.count_documents instead.\n",
      "  \n"
     ]
    },
    {
     "data": {
      "text/plain": [
       "[{'name': 'ngmoco',\n",
       "  'total_money_raised': '$44.8M',\n",
       "  'description': 'Secret Factory',\n",
       "  'address1': '185 Berry Street',\n",
       "  'address2': 'Suite 3000',\n",
       "  'zip_code': '94107',\n",
       "  'city': 'San Francisco',\n",
       "  'state_code': 'CA',\n",
       "  'country_code': 'USA',\n",
       "  'latitude': 37.7705096,\n",
       "  'longitude': -122.4015807,\n",
       "  'location': {'type': 'Point', 'coordinates': [-122.4015807, 37.7705096]}},\n",
       " {'name': 'Citizen Sports',\n",
       "  'total_money_raised': '$10M',\n",
       "  'description': '',\n",
       "  'address1': '525 Brannan St',\n",
       "  'address2': '',\n",
       "  'zip_code': '94107',\n",
       "  'city': 'San Francisco',\n",
       "  'state_code': 'CA',\n",
       "  'country_code': 'USA',\n",
       "  'latitude': 37.777513,\n",
       "  'longitude': -122.397044,\n",
       "  'location': {'type': 'Point', 'coordinates': [-122.397044, 37.777513]}},\n",
       " {'name': 'GotGame',\n",
       "  'total_money_raised': '$1M',\n",
       "  'description': 'GotGame HQ',\n",
       "  'address1': '1 Bluxome Place',\n",
       "  'address2': 'Suite 204',\n",
       "  'zip_code': '94107',\n",
       "  'city': 'San Francisco',\n",
       "  'state_code': 'CA',\n",
       "  'country_code': 'USA',\n",
       "  'latitude': 37.77772,\n",
       "  'longitude': -122.395785,\n",
       "  'location': {'type': 'Point', 'coordinates': [-122.395785, 37.77772]}},\n",
       " {'name': 'Scavenja',\n",
       "  'total_money_raised': '$0',\n",
       "  'description': '',\n",
       "  'address1': '539 Bryant St.,',\n",
       "  'address2': 'Suite 402',\n",
       "  'zip_code': '94107',\n",
       "  'city': 'San Francisco',\n",
       "  'state_code': 'CA',\n",
       "  'country_code': 'USA',\n",
       "  'latitude': 37.780134,\n",
       "  'longitude': -122.396744,\n",
       "  'location': {'type': 'Point', 'coordinates': [-122.396744, 37.780134]}},\n",
       " {'name': 'IODA',\n",
       "  'total_money_raised': '$0',\n",
       "  'description': 'null',\n",
       "  'address1': '539 Bryant Street, Suite 303',\n",
       "  'address2': 'null',\n",
       "  'zip_code': '94107',\n",
       "  'city': 'San Francisco',\n",
       "  'state_code': 'CA',\n",
       "  'country_code': 'USA',\n",
       "  'latitude': 37.780134,\n",
       "  'longitude': -122.396744,\n",
       "  'location': {'type': 'Point', 'coordinates': [-122.396744, 37.780134]}}]"
      ]
     },
     "execution_count": 48,
     "metadata": {},
     "output_type": "execute_result"
    }
   ],
   "source": [
    "cur = db.gamings.find(school, {\"_id\":0})\n",
    "print(cur.count())\n",
    "result = list(cur)\n",
    "result"
   ]
  },
  {
   "cell_type": "code",
   "execution_count": 49,
   "metadata": {},
   "outputs": [
    {
     "data": {
      "text/plain": [
       "{'location': {'$near': {'$geometry': {'type': 'Point',\n",
       "    'coordinates': [-122.40193, 37.78142]},\n",
       "   '$maxDistance': 500}}}"
      ]
     },
     "execution_count": 49,
     "metadata": {},
     "output_type": "execute_result"
    }
   ],
   "source": [
    "Club=getlocationeNear(\"826 Folsom St, San Francisco, CA 94107, United States\", maxDist=500) #el club   más cerca según el punto\n",
    "\n",
    "Club"
   ]
  },
  {
   "cell_type": "code",
   "execution_count": 50,
   "metadata": {},
   "outputs": [
    {
     "name": "stdout",
     "output_type": "stream",
     "text": [
      "2\n"
     ]
    },
    {
     "name": "stderr",
     "output_type": "stream",
     "text": [
      "/usr/local/lib/python3.7/site-packages/ipykernel_launcher.py:2: DeprecationWarning: count is deprecated. Use Collection.count_documents instead.\n",
      "  \n"
     ]
    },
    {
     "data": {
      "text/plain": [
       "[{'name': 'IODA',\n",
       "  'total_money_raised': '$0',\n",
       "  'description': 'null',\n",
       "  'address1': '539 Bryant Street, Suite 303',\n",
       "  'address2': 'null',\n",
       "  'zip_code': '94107',\n",
       "  'city': 'San Francisco',\n",
       "  'state_code': 'CA',\n",
       "  'country_code': 'USA',\n",
       "  'latitude': 37.780134,\n",
       "  'longitude': -122.396744,\n",
       "  'location': {'type': 'Point', 'coordinates': [-122.396744, 37.780134]}},\n",
       " {'name': 'Scavenja',\n",
       "  'total_money_raised': '$0',\n",
       "  'description': '',\n",
       "  'address1': '539 Bryant St.,',\n",
       "  'address2': 'Suite 402',\n",
       "  'zip_code': '94107',\n",
       "  'city': 'San Francisco',\n",
       "  'state_code': 'CA',\n",
       "  'country_code': 'USA',\n",
       "  'latitude': 37.780134,\n",
       "  'longitude': -122.396744,\n",
       "  'location': {'type': 'Point', 'coordinates': [-122.396744, 37.780134]}}]"
      ]
     },
     "execution_count": 50,
     "metadata": {},
     "output_type": "execute_result"
    }
   ],
   "source": [
    "cur = db.gamings.find(Club, {\"_id\":0})\n",
    "print(cur.count())\n",
    "result = list(cur)\n",
    "result"
   ]
  },
  {
   "cell_type": "code",
   "execution_count": 51,
   "metadata": {},
   "outputs": [
    {
     "data": {
      "text/plain": [
       "{'location': {'$near': {'$geometry': {'type': 'Point',\n",
       "    'coordinates': [-122.41286, 37.77093]},\n",
       "   '$maxDistance': 1000}}}"
      ]
     },
     "execution_count": 51,
     "metadata": {},
     "output_type": "execute_result"
    }
   ],
   "source": [
    "court=getlocationeNear(\"375 11th St, San Francisco, CA 94103, United States\", maxDist=1000) #la cancha   más cerca según el punto\n",
    "\n",
    "court"
   ]
  },
  {
   "cell_type": "code",
   "execution_count": 52,
   "metadata": {},
   "outputs": [
    {
     "name": "stdout",
     "output_type": "stream",
     "text": [
      "1\n"
     ]
    },
    {
     "name": "stderr",
     "output_type": "stream",
     "text": [
      "/usr/local/lib/python3.7/site-packages/ipykernel_launcher.py:2: DeprecationWarning: count is deprecated. Use Collection.count_documents instead.\n",
      "  \n"
     ]
    },
    {
     "data": {
      "text/plain": [
       "[{'name': 'ngmoco',\n",
       "  'total_money_raised': '$44.8M',\n",
       "  'description': 'Secret Factory',\n",
       "  'address1': '185 Berry Street',\n",
       "  'address2': 'Suite 3000',\n",
       "  'zip_code': '94107',\n",
       "  'city': 'San Francisco',\n",
       "  'state_code': 'CA',\n",
       "  'country_code': 'USA',\n",
       "  'latitude': 37.7705096,\n",
       "  'longitude': -122.4015807,\n",
       "  'location': {'type': 'Point', 'coordinates': [-122.4015807, 37.7705096]}}]"
      ]
     },
     "execution_count": 52,
     "metadata": {},
     "output_type": "execute_result"
    }
   ],
   "source": [
    "cur = db.gamings.find(court, {\"_id\":0})\n",
    "print(cur.count())\n",
    "result = list(cur)\n",
    "result"
   ]
  },
  {
   "cell_type": "markdown",
   "metadata": {},
   "source": [
    "\n",
    "Tras localizar escuelas, clubs, restaurantes veganos,courts de basketbalgamers companies que valen más de un millón ,la compañia seleccionada que aparece en 4 busquedas es  Scavenja. Por lo que procedemos a verificar a que distancia se encuentra de los requirimientos:"
   ]
  },
  {
   "cell_type": "code",
   "execution_count": 74,
   "metadata": {},
   "outputs": [],
   "source": [
    "# Calculamos distance para la oficina elegida \"Scavenja\" que cumple con los criterios requeridos:\n",
    "office_coor =(37.780134,-122.396744)\n",
    "court_coor= (37.7710, -122.413)\n",
    "club_coor= (37.7816,-122.402)\n",
    "school_coor= (37.7763,-122.406)\n",
    "vegan_coor=(37.785751395,-122.404123709)\n",
    "office_near_coor = (37.7839,-122.395)\n",
    "airport_coor = (37.7857,-122.410)\n"
   ]
  },
  {
   "cell_type": "code",
   "execution_count": 75,
   "metadata": {},
   "outputs": [
    {
     "name": "stdout",
     "output_type": "stream",
     "text": [
      "club 0.4907764314669059 km\n",
      "court 1.7546611083781394 km\n",
      "school 0.9197809838870833 km\n",
      "vegan_restaurant 0.900747605269903 km\n",
      "offices_near 0.4453363851813138 km\n",
      "airport 1.3210798150082281 km\n"
     ]
    }
   ],
   "source": [
    "print(\"club\",geodesic(office_coor,club_coor))\n",
    "print(\"court\",geodesic(office_coor,court_coor))\n",
    "print(\"school\",geodesic(office_coor,school_coor))\n",
    "print(\"vegan_restaurant\",geodesic(office_coor,vegan_coor))\n",
    "print(\"offices_near\",geodesic(office_coor,office_near_coor))\n",
    "print(\"airport\",geodesic(office_coor,airport_coor))\n",
    "\n"
   ]
  },
  {
   "cell_type": "code",
   "execution_count": null,
   "metadata": {},
   "outputs": [],
   "source": [
    "##la conclusión la desarrollo a través del read me"
   ]
  }
 ],
 "metadata": {
  "kernelspec": {
   "display_name": "Python 3",
   "language": "python",
   "name": "python3"
  },
  "language_info": {
   "codemirror_mode": {
    "name": "ipython",
    "version": 3
   },
   "file_extension": ".py",
   "mimetype": "text/x-python",
   "name": "python",
   "nbconvert_exporter": "python",
   "pygments_lexer": "ipython3",
   "version": "3.7.7"
  }
 },
 "nbformat": 4,
 "nbformat_minor": 4
}
